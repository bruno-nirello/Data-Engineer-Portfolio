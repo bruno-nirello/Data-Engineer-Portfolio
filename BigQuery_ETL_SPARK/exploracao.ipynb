{
 "cells": [
  {
   "cell_type": "code",
   "execution_count": 1,
   "metadata": {},
   "outputs": [
    {
     "name": "stdout",
     "output_type": "stream",
     "text": [
      "+-----+\n",
      "|hello|\n",
      "+-----+\n",
      "|spark|\n",
      "+-----+\n",
      "\n"
     ]
    }
   ],
   "source": [
    "import findspark\n",
    "findspark.init(\"C:\\spark\\spark\")\n",
    "import os\n",
    "os.environ['PYSPARK_SUBMIT_ARGS'] = '--packages io.delta:delta-core_2.11:0.4.0 pyspark-shell'\n",
    "import pyspark\n",
    "from pyspark.sql import SparkSession\n",
    "#import pandas as pd\n",
    "#import numpy as np\n",
    "\n",
    "sc = pyspark.SparkContext.getOrCreate()\n",
    "\n",
    "sc.version\n",
    "\n",
    "spark = SparkSession.builder.getOrCreate()\n",
    "\n",
    "df = spark.sql(\"select 'spark' as hello \")\n",
    "\n",
    "df.show()"
   ]
  },
  {
   "cell_type": "code",
   "execution_count": 2,
   "metadata": {},
   "outputs": [
    {
     "name": "stdout",
     "output_type": "stream",
     "text": [
      "+---+--------------------+--------------------+---------------+--------------------+---+--------------------+--------------------+\n",
      "| id|                name|               email|          phone|             address|age|         create_date|         update_date|\n",
      "+---+--------------------+--------------------+---------------+--------------------+---+--------------------+--------------------+\n",
      "|  1|david.lynch@cogni...|         David Lynch|(11) 99999-9997|Mulholland Drive,...| 72|2018-03-03 18:47:...|2018-03-03 18:47:...|\n",
      "|  1|david.lynch@cogni...|         David Lynch|(11) 99999-9998|Mulholland Drive,...| 72|2018-03-03 18:47:...|2018-04-14 17:09:...|\n",
      "|  2|sherlock.holmes@c...|     Sherlock Holmes|(11) 94815-1623|221B Baker Street...| 34|2018-04-21 20:21:...|2018-04-21 20:21:...|\n",
      "|  3|spongebob.squarep...|Spongebob Squarep...|(11) 91234-5678|124 Conch Street,...| 13|2018-05-19 04:07:...|2018-05-19 04:07:...|\n",
      "|  1|david.lynch@cogni...|         David Lynch|(11) 99999-9999|Mulholland Drive,...| 72|2018-03-03 18:47:...|2018-05-23 10:13:...|\n",
      "|  3|spongebob.squarep...|Spongebob Squarep...|(11) 98765-4321|122 Conch Street,...| 13|2018-05-19 04:07:...|2018-05-19 05:08:...|\n",
      "+---+--------------------+--------------------+---------------+--------------------+---+--------------------+--------------------+\n",
      "\n"
     ]
    }
   ],
   "source": [
    "# explorando os dados\n",
    "df = spark.read.csv(\"teste-eng-dados/data/input/users/load.csv\", header=True, inferSchema=True)\n",
    "df.show(10)"
   ]
  },
  {
   "cell_type": "code",
   "execution_count": 3,
   "metadata": {},
   "outputs": [
    {
     "data": {
      "text/plain": [
       "[('id', 'int'),\n",
       " ('name', 'string'),\n",
       " ('email', 'string'),\n",
       " ('phone', 'string'),\n",
       " ('address', 'string'),\n",
       " ('age', 'int'),\n",
       " ('create_date', 'timestamp'),\n",
       " ('update_date', 'timestamp')]"
      ]
     },
     "execution_count": 3,
     "metadata": {},
     "output_type": "execute_result"
    }
   ],
   "source": [
    "df.dtypes"
   ]
  },
  {
   "cell_type": "markdown",
   "metadata": {},
   "source": [
    "Como pede a instrução (3) o arquivo types_mapping.json marca os campos e os respectivos tipos desejados de output,\n",
    "porém quando utilizamos inferSchema=True na leitura do CSV ele já consegue identificar o que pede o JSON.\n",
    "\n",
    "age:\"integer\"\n",
    "create_date:\"timestamp\"\n",
    "update_date:\"timestamp\"\n",
    "\n",
    "Caso já tenhamos o schema em json podemos importa-lo como schema, porém o problema com o JSON é que realmente não há garantia em relação à ordenação de campos, sem mencionar o tratamento de campos ausentes, tipos inconsistentes etc.\n",
    "\n",
    "Para resolver isso podemos copiar o schema padrão como string, alteramos e importamos novamente para o dataframe"
   ]
  },
  {
   "cell_type": "code",
   "execution_count": 4,
   "metadata": {},
   "outputs": [
    {
     "name": "stdout",
     "output_type": "stream",
     "text": [
      "root\n",
      " |-- id: string (nullable = true)\n",
      " |-- name: string (nullable = true)\n",
      " |-- email: string (nullable = true)\n",
      " |-- phone: string (nullable = true)\n",
      " |-- address: string (nullable = true)\n",
      " |-- age: string (nullable = true)\n",
      " |-- create_date: string (nullable = true)\n",
      " |-- update_date: string (nullable = true)\n",
      "\n"
     ]
    }
   ],
   "source": [
    "df2 = spark.read.csv(\"teste-eng-dados/data/input/users/load.csv\", header=True)\n",
    "df2.printSchema()"
   ]
  },
  {
   "cell_type": "code",
   "execution_count": 5,
   "metadata": {},
   "outputs": [
    {
     "name": "stdout",
     "output_type": "stream",
     "text": [
      "{\"fields\":[{\"metadata\":{},\"name\":\"id\",\"nullable\":true,\"type\":\"string\"},{\"metadata\":{},\"name\":\"name\",\"nullable\":true,\"type\":\"string\"},{\"metadata\":{},\"name\":\"email\",\"nullable\":true,\"type\":\"string\"},{\"metadata\":{},\"name\":\"phone\",\"nullable\":true,\"type\":\"string\"},{\"metadata\":{},\"name\":\"address\",\"nullable\":true,\"type\":\"string\"},{\"metadata\":{},\"name\":\"age\",\"nullable\":true,\"type\":\"string\"},{\"metadata\":{},\"name\":\"create_date\",\"nullable\":true,\"type\":\"string\"},{\"metadata\":{},\"name\":\"update_date\",\"nullable\":true,\"type\":\"string\"}],\"type\":\"struct\"}\n"
     ]
    }
   ],
   "source": [
    "from pyspark.sql.types import *\n",
    "import json\n",
    "# exportando o schema do dataframe \n",
    "schema_json = df2.schema.json()\n",
    "print(schema_json)"
   ]
  },
  {
   "cell_type": "code",
   "execution_count": 6,
   "metadata": {},
   "outputs": [],
   "source": [
    "schema_json2 = eval(schema_json.replace(\"true\", \"True\"))\n",
    "#usando o types_mapping como input\n",
    "with open('teste-eng-dados/config/types_mapping.json') as f:\n",
    "    data = json.load(f)\n",
    "data.update(id = 'integer')\n",
    "for field in schema_json2['fields']:\n",
    "    if field['name'] in data.keys():\n",
    "        field['type'] = data[field['name']]\n",
    "schema_json2 = json.dumps(schema_json2)\n",
    "# alterações feitas agora vamos carregar o Python Object string para Json, também coloquei o id com integer para melhor processamento dos dados.\n",
    "new_schema = StructType.fromJson(json.loads(schema_json2))"
   ]
  },
  {
   "cell_type": "code",
   "execution_count": 7,
   "metadata": {},
   "outputs": [
    {
     "name": "stdout",
     "output_type": "stream",
     "text": [
      "root\n",
      " |-- id: integer (nullable = true)\n",
      " |-- name: string (nullable = true)\n",
      " |-- email: string (nullable = true)\n",
      " |-- phone: string (nullable = true)\n",
      " |-- address: string (nullable = true)\n",
      " |-- age: integer (nullable = true)\n",
      " |-- create_date: timestamp (nullable = true)\n",
      " |-- update_date: timestamp (nullable = true)\n",
      "\n"
     ]
    }
   ],
   "source": [
    "#agora podemos carregar novamente o dataframe colocando o argumento schema na leitura\n",
    "df2 = spark.read.csv(\"teste-eng-dados/data/input/users/load.csv\", header=True, schema=new_schema)\n",
    "df2.printSchema()"
   ]
  },
  {
   "cell_type": "code",
   "execution_count": 8,
   "metadata": {},
   "outputs": [],
   "source": [
    "\"\"\"estes dados possuem um id para cada usuario, então podemos ordernar os dados pela coluna update_date em ordem decrescente.\n",
    "Spark tem uma função chamada .dropDuplicates que remove linhas duplicadas baseada em uma coluna, \"\"\"\n",
    "\n",
    "df_drop = df2.orderBy(df2.update_date.desc()).dropDuplicates(['id'])"
   ]
  },
  {
   "cell_type": "code",
   "execution_count": 9,
   "metadata": {},
   "outputs": [
    {
     "name": "stdout",
     "output_type": "stream",
     "text": [
      "+---+--------------------+--------------------+---------------+--------------------+---+--------------------+--------------------+\n",
      "| id|               email|                name|          phone|             address|age|         create_date|         update_date|\n",
      "+---+--------------------+--------------------+---------------+--------------------+---+--------------------+--------------------+\n",
      "|  1|david.lynch@cogni...|         David Lynch|(11) 99999-9999|Mulholland Drive,...| 72|2018-03-03 18:47:...|2018-05-23 10:13:...|\n",
      "|  3|spongebob.squarep...|Spongebob Squarep...|(11) 98765-4321|122 Conch Street,...| 13|2018-05-19 04:07:...|2018-05-19 05:08:...|\n",
      "|  2|sherlock.holmes@c...|     Sherlock Holmes|(11) 94815-1623|221B Baker Street...| 34|2018-04-21 20:21:...|2018-04-21 20:21:...|\n",
      "+---+--------------------+--------------------+---------------+--------------------+---+--------------------+--------------------+\n",
      "\n"
     ]
    }
   ],
   "source": [
    "# As colunas email e nome estão com os dados trocados\n",
    "df_renamed = df_drop.withColumnRenamed(\"name\", \"e_mail\").withColumnRenamed(\"email\", \"name\").withColumnRenamed(\"e_mail\", \"email\")\n",
    "df_renamed.show(5)"
   ]
  },
  {
   "cell_type": "code",
   "execution_count": 10,
   "metadata": {},
   "outputs": [],
   "source": [
    "# salvando os dados em um formato colunar de alta performance 'parquet', arquivos CSV em spark são lentos para analisar, com parquet mesmo em datasets pequenos,\n",
    "# as queries são mais rápidas e usam menos banda da rede (predicate pushdown), o que diminui o custo.\n",
    "df_renamed.write.parquet(\"teste-eng-dados/data/output/load.parquet\", mode=\"overwrite\")"
   ]
  },
  {
   "cell_type": "code",
   "execution_count": null,
   "metadata": {},
   "outputs": [],
   "source": []
  }
 ],
 "metadata": {
  "kernelspec": {
   "display_name": "Python 3",
   "language": "python",
   "name": "python3"
  },
  "language_info": {
   "codemirror_mode": {
    "name": "ipython",
    "version": 3
   },
   "file_extension": ".py",
   "mimetype": "text/x-python",
   "name": "python",
   "nbconvert_exporter": "python",
   "pygments_lexer": "ipython3",
   "version": "3.7.3"
  }
 },
 "nbformat": 4,
 "nbformat_minor": 4
}
